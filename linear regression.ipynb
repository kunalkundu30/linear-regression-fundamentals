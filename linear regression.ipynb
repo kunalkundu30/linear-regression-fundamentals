{
 "cells": [
  {
   "cell_type": "code",
   "execution_count": 10,
   "metadata": {},
   "outputs": [],
   "source": [
    "from utils import generate_samples_linear_reg\n",
    "import numpy as np\n",
    "import statsmodels.api as sm\n",
    "import pandas as pd\n"
   ]
  },
  {
   "cell_type": "code",
   "execution_count": 5,
   "metadata": {},
   "outputs": [
    {
     "name": "stdout",
     "output_type": "stream",
     "text": [
      "Shape of samples is:  (10, 2)\n",
      "Samples are:  [[7.09450541 0.0885049 ]\n",
      " [2.4260621  5.13349214]\n",
      " [7.6530514  9.61398845]\n",
      " [5.11898774 8.70824329]\n",
      " [9.81298224 8.85746227]\n",
      " [8.28453505 7.64397124]\n",
      " [0.77509095 5.98724072]\n",
      " [3.72212579 4.33538306]\n",
      " [4.99308537 2.63981972]\n",
      " [3.26831771 3.20579222]]\n",
      "\n",
      "Shape of labels is:  (10,)\n",
      "Labels are:  [12.3600201  22.82653851 41.49501674 36.2437176  41.38536904 36.21644877\n",
      " 23.73681311 21.72827496 17.91254453 17.88569437]\n"
     ]
    }
   ],
   "source": [
    "samples = 10\n",
    "features = 2\n",
    "lower_bound = 0\n",
    "upper_bound = 10\n",
    "intercept = 5\n",
    "coeffecients = [1,3]\n",
    "\n",
    "X, y = generate_samples_linear_reg(\n",
    "    samples,\n",
    "    features,\n",
    "    lower_bound,\n",
    "    upper_bound,\n",
    "    intercept,\n",
    "    coeffecients,\n",
    ")\n",
    "\n",
    "print(\"Shape of samples is: \",X.shape)\n",
    "print(\"Samples are: \", X)\n",
    "\n",
    "print(\"\\n Shape of labels is: \",y.shape)\n",
    "print(\"Labels are: \", y)\n",
    "\n"
   ]
  },
  {
   "cell_type": "code",
   "execution_count": 16,
   "metadata": {},
   "outputs": [
    {
     "name": "stderr",
     "output_type": "stream",
     "text": [
      "/opt/anaconda3/envs/linearregression/lib/python3.12/site-packages/scipy/stats/_axis_nan_policy.py:531: UserWarning: kurtosistest only valid for n>=20 ... continuing anyway, n=10\n",
      "  res = hypotest_fun_out(*samples, **kwds)\n"
     ]
    },
    {
     "data": {
      "text/html": [
       "<table class=\"simpletable\">\n",
       "<caption>OLS Regression Results</caption>\n",
       "<tr>\n",
       "  <th>Dep. Variable:</th>            <td>y</td>        <th>  R-squared:         </th> <td>   1.000</td> \n",
       "</tr>\n",
       "<tr>\n",
       "  <th>Model:</th>                   <td>OLS</td>       <th>  Adj. R-squared:    </th> <td>   1.000</td> \n",
       "</tr>\n",
       "<tr>\n",
       "  <th>Method:</th>             <td>Least Squares</td>  <th>  F-statistic:       </th> <td>3.732e+30</td>\n",
       "</tr>\n",
       "<tr>\n",
       "  <th>Date:</th>             <td>Mon, 15 Apr 2024</td> <th>  Prob (F-statistic):</th> <td>7.99e-106</td>\n",
       "</tr>\n",
       "<tr>\n",
       "  <th>Time:</th>                 <td>20:52:04</td>     <th>  Log-Likelihood:    </th> <td>  308.38</td> \n",
       "</tr>\n",
       "<tr>\n",
       "  <th>No. Observations:</th>      <td>    10</td>      <th>  AIC:               </th> <td>  -610.8</td> \n",
       "</tr>\n",
       "<tr>\n",
       "  <th>Df Residuals:</th>          <td>     7</td>      <th>  BIC:               </th> <td>  -609.9</td> \n",
       "</tr>\n",
       "<tr>\n",
       "  <th>Df Model:</th>              <td>     2</td>      <th>                     </th>     <td> </td>    \n",
       "</tr>\n",
       "<tr>\n",
       "  <th>Covariance Type:</th>      <td>nonrobust</td>    <th>                     </th>     <td> </td>    \n",
       "</tr>\n",
       "</table>\n",
       "<table class=\"simpletable\">\n",
       "<tr>\n",
       "    <td></td>       <th>coef</th>     <th>std err</th>      <th>t</th>      <th>P>|t|</th>  <th>[0.025</th>    <th>0.975]</th>  \n",
       "</tr>\n",
       "<tr>\n",
       "  <th>const</th> <td>    5.0000</td> <td> 9.49e-15</td> <td> 5.27e+14</td> <td> 0.000</td> <td>    5.000</td> <td>    5.000</td>\n",
       "</tr>\n",
       "<tr>\n",
       "  <th>x1</th>    <td>    1.0000</td> <td> 1.45e-15</td> <td> 6.89e+14</td> <td> 0.000</td> <td>    1.000</td> <td>    1.000</td>\n",
       "</tr>\n",
       "<tr>\n",
       "  <th>x2</th>    <td>    3.0000</td> <td> 1.33e-15</td> <td> 2.25e+15</td> <td> 0.000</td> <td>    3.000</td> <td>    3.000</td>\n",
       "</tr>\n",
       "</table>\n",
       "<table class=\"simpletable\">\n",
       "<tr>\n",
       "  <th>Omnibus:</th>       <td> 1.141</td> <th>  Durbin-Watson:     </th> <td>   1.066</td>\n",
       "</tr>\n",
       "<tr>\n",
       "  <th>Prob(Omnibus):</th> <td> 0.565</td> <th>  Jarque-Bera (JB):  </th> <td>   0.874</td>\n",
       "</tr>\n",
       "<tr>\n",
       "  <th>Skew:</th>          <td>-0.581</td> <th>  Prob(JB):          </th> <td>   0.646</td>\n",
       "</tr>\n",
       "<tr>\n",
       "  <th>Kurtosis:</th>      <td> 2.135</td> <th>  Cond. No.          </th> <td>    21.8</td>\n",
       "</tr>\n",
       "</table><br/><br/>Notes:<br/>[1] Standard Errors assume that the covariance matrix of the errors is correctly specified."
      ],
      "text/latex": [
       "\\begin{center}\n",
       "\\begin{tabular}{lclc}\n",
       "\\toprule\n",
       "\\textbf{Dep. Variable:}    &        y         & \\textbf{  R-squared:         } &     1.000   \\\\\n",
       "\\textbf{Model:}            &       OLS        & \\textbf{  Adj. R-squared:    } &     1.000   \\\\\n",
       "\\textbf{Method:}           &  Least Squares   & \\textbf{  F-statistic:       } & 3.732e+30   \\\\\n",
       "\\textbf{Date:}             & Mon, 15 Apr 2024 & \\textbf{  Prob (F-statistic):} & 7.99e-106   \\\\\n",
       "\\textbf{Time:}             &     20:52:04     & \\textbf{  Log-Likelihood:    } &    308.38   \\\\\n",
       "\\textbf{No. Observations:} &          10      & \\textbf{  AIC:               } &    -610.8   \\\\\n",
       "\\textbf{Df Residuals:}     &           7      & \\textbf{  BIC:               } &    -609.9   \\\\\n",
       "\\textbf{Df Model:}         &           2      & \\textbf{                     } &             \\\\\n",
       "\\textbf{Covariance Type:}  &    nonrobust     & \\textbf{                     } &             \\\\\n",
       "\\bottomrule\n",
       "\\end{tabular}\n",
       "\\begin{tabular}{lcccccc}\n",
       "               & \\textbf{coef} & \\textbf{std err} & \\textbf{t} & \\textbf{P$> |$t$|$} & \\textbf{[0.025} & \\textbf{0.975]}  \\\\\n",
       "\\midrule\n",
       "\\textbf{const} &       5.0000  &     9.49e-15     &  5.27e+14  &         0.000        &        5.000    &        5.000     \\\\\n",
       "\\textbf{x1}    &       1.0000  &     1.45e-15     &  6.89e+14  &         0.000        &        1.000    &        1.000     \\\\\n",
       "\\textbf{x2}    &       3.0000  &     1.33e-15     &  2.25e+15  &         0.000        &        3.000    &        3.000     \\\\\n",
       "\\bottomrule\n",
       "\\end{tabular}\n",
       "\\begin{tabular}{lclc}\n",
       "\\textbf{Omnibus:}       &  1.141 & \\textbf{  Durbin-Watson:     } &    1.066  \\\\\n",
       "\\textbf{Prob(Omnibus):} &  0.565 & \\textbf{  Jarque-Bera (JB):  } &    0.874  \\\\\n",
       "\\textbf{Skew:}          & -0.581 & \\textbf{  Prob(JB):          } &    0.646  \\\\\n",
       "\\textbf{Kurtosis:}      &  2.135 & \\textbf{  Cond. No.          } &     21.8  \\\\\n",
       "\\bottomrule\n",
       "\\end{tabular}\n",
       "%\\caption{OLS Regression Results}\n",
       "\\end{center}\n",
       "\n",
       "Notes: \\newline\n",
       " [1] Standard Errors assume that the covariance matrix of the errors is correctly specified."
      ],
      "text/plain": [
       "<class 'statsmodels.iolib.summary.Summary'>\n",
       "\"\"\"\n",
       "                            OLS Regression Results                            \n",
       "==============================================================================\n",
       "Dep. Variable:                      y   R-squared:                       1.000\n",
       "Model:                            OLS   Adj. R-squared:                  1.000\n",
       "Method:                 Least Squares   F-statistic:                 3.732e+30\n",
       "Date:                Mon, 15 Apr 2024   Prob (F-statistic):          7.99e-106\n",
       "Time:                        20:52:04   Log-Likelihood:                 308.38\n",
       "No. Observations:                  10   AIC:                            -610.8\n",
       "Df Residuals:                       7   BIC:                            -609.9\n",
       "Df Model:                           2                                         \n",
       "Covariance Type:            nonrobust                                         \n",
       "==============================================================================\n",
       "                 coef    std err          t      P>|t|      [0.025      0.975]\n",
       "------------------------------------------------------------------------------\n",
       "const          5.0000   9.49e-15   5.27e+14      0.000       5.000       5.000\n",
       "x1             1.0000   1.45e-15   6.89e+14      0.000       1.000       1.000\n",
       "x2             3.0000   1.33e-15   2.25e+15      0.000       3.000       3.000\n",
       "==============================================================================\n",
       "Omnibus:                        1.141   Durbin-Watson:                   1.066\n",
       "Prob(Omnibus):                  0.565   Jarque-Bera (JB):                0.874\n",
       "Skew:                          -0.581   Prob(JB):                        0.646\n",
       "Kurtosis:                       2.135   Cond. No.                         21.8\n",
       "==============================================================================\n",
       "\n",
       "Notes:\n",
       "[1] Standard Errors assume that the covariance matrix of the errors is correctly specified.\n",
       "\"\"\""
      ]
     },
     "execution_count": 16,
     "metadata": {},
     "output_type": "execute_result"
    }
   ],
   "source": [
    "X_with_intercept = sm.add_constant(X)\n",
    "model = sm.OLS(y,X_with_intercept)\n",
    "model_results = model.fit()\n",
    "model_results.summary()"
   ]
  },
  {
   "cell_type": "code",
   "execution_count": 14,
   "metadata": {},
   "outputs": [
    {
     "data": {
      "text/plain": [
       "array([[8.00000000e+000, 3.11108246e+231, 1.42763657e-071],\n",
       "       [1.85455425e-051, 1.18914750e-075, 4.17203572e-309]])"
      ]
     },
     "execution_count": 14,
     "metadata": {},
     "output_type": "execute_result"
    }
   ],
   "source": [
    "a=np.empty((2,3))\n",
    "a\n",
    "a[0][0]=8\n",
    "a"
   ]
  },
  {
   "cell_type": "code",
   "execution_count": 36,
   "metadata": {},
   "outputs": [
    {
     "data": {
      "text/plain": [
       "array([[ 3,  8, 15],\n",
       "       [ 9, 16, 25]])"
      ]
     },
     "execution_count": 36,
     "metadata": {},
     "output_type": "execute_result"
    }
   ],
   "source": [
    "# np.array(([1,2,3],[3,4,5]))*np.array(([3],[4],[5]))\n",
    "\n",
    "np.array(([1,2,3],[3,4,5]))*(np.array((3,4,5)))\n",
    "\n",
    "# np.multiply(np.array(([1,2,3],[3,4,5]))*np.array(([3],[4],[5])))"
   ]
  },
  {
   "cell_type": "code",
   "execution_count": 38,
   "metadata": {},
   "outputs": [
    {
     "data": {
      "text/plain": [
       "array([26, 50])"
      ]
     },
     "execution_count": 38,
     "metadata": {},
     "output_type": "execute_result"
    }
   ],
   "source": [
    "np.dot(np.array(([1,2,3],[3,4,5])),(np.array((3,4,5))))"
   ]
  },
  {
   "cell_type": "code",
   "execution_count": 32,
   "metadata": {},
   "outputs": [
    {
     "data": {
      "text/plain": [
       "array([3, 4, 5])"
      ]
     },
     "execution_count": 32,
     "metadata": {},
     "output_type": "execute_result"
    }
   ],
   "source": [
    "np.array((3,4,5)).T"
   ]
  }
 ],
 "metadata": {
  "kernelspec": {
   "display_name": "linearregression",
   "language": "python",
   "name": "python3"
  },
  "language_info": {
   "codemirror_mode": {
    "name": "ipython",
    "version": 3
   },
   "file_extension": ".py",
   "mimetype": "text/x-python",
   "name": "python",
   "nbconvert_exporter": "python",
   "pygments_lexer": "ipython3",
   "version": "3.12.3"
  }
 },
 "nbformat": 4,
 "nbformat_minor": 2
}
