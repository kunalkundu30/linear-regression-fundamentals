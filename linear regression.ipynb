{
 "cells": [
  {
   "cell_type": "code",
   "execution_count": 1,
   "metadata": {},
   "outputs": [],
   "source": [
    "from utils import generate_samples_linear_reg\n",
    "import numpy as np"
   ]
  },
  {
   "cell_type": "code",
   "execution_count": 5,
   "metadata": {},
   "outputs": [
    {
     "name": "stdout",
     "output_type": "stream",
     "text": [
      "Shape of samples is:  (10, 2)\n",
      "Samples are:  [[7.09450541 0.0885049 ]\n",
      " [2.4260621  5.13349214]\n",
      " [7.6530514  9.61398845]\n",
      " [5.11898774 8.70824329]\n",
      " [9.81298224 8.85746227]\n",
      " [8.28453505 7.64397124]\n",
      " [0.77509095 5.98724072]\n",
      " [3.72212579 4.33538306]\n",
      " [4.99308537 2.63981972]\n",
      " [3.26831771 3.20579222]]\n",
      "\n",
      "Shape of labels is:  (10,)\n",
      "Labels are:  [12.3600201  22.82653851 41.49501674 36.2437176  41.38536904 36.21644877\n",
      " 23.73681311 21.72827496 17.91254453 17.88569437]\n"
     ]
    }
   ],
   "source": [
    "samples = 10\n",
    "features = 2\n",
    "lower_bound = 0\n",
    "upper_bound = 10\n",
    "intercept = 5\n",
    "coeffecients = [1,3]\n",
    "\n",
    "X, y = generate_samples_linear_reg(\n",
    "    samples,\n",
    "    features,\n",
    "    lower_bound,\n",
    "    upper_bound,\n",
    "    intercept,\n",
    "    coeffecients,\n",
    ")\n",
    "\n",
    "print(\"Shape of samples is: \",X.shape)\n",
    "print(\"Samples are: \", X)\n",
    "\n",
    "print(\"\\n Shape of labels is: \",y.shape)\n",
    "print(\"Labels are: \", y)\n",
    "\n"
   ]
  },
  {
   "cell_type": "code",
   "execution_count": 44,
   "metadata": {},
   "outputs": [
    {
     "data": {
      "text/plain": [
       "array([[ 3.94474103,  7.66187881],\n",
       "       [10.5367387 , 16.57202808],\n",
       "       [ 2.89760557, 15.61730904]])"
      ]
     },
     "execution_count": 44,
     "metadata": {},
     "output_type": "execute_result"
    }
   ],
   "source": []
  },
  {
   "cell_type": "code",
   "execution_count": 14,
   "metadata": {},
   "outputs": [
    {
     "data": {
      "text/plain": [
       "array([[8.00000000e+000, 3.11108246e+231, 1.42763657e-071],\n",
       "       [1.85455425e-051, 1.18914750e-075, 4.17203572e-309]])"
      ]
     },
     "execution_count": 14,
     "metadata": {},
     "output_type": "execute_result"
    }
   ],
   "source": [
    "a=np.empty((2,3))\n",
    "a\n",
    "a[0][0]=8\n",
    "a"
   ]
  },
  {
   "cell_type": "code",
   "execution_count": 36,
   "metadata": {},
   "outputs": [
    {
     "data": {
      "text/plain": [
       "array([[ 3,  8, 15],\n",
       "       [ 9, 16, 25]])"
      ]
     },
     "execution_count": 36,
     "metadata": {},
     "output_type": "execute_result"
    }
   ],
   "source": [
    "# np.array(([1,2,3],[3,4,5]))*np.array(([3],[4],[5]))\n",
    "\n",
    "np.array(([1,2,3],[3,4,5]))*(np.array((3,4,5)))\n",
    "\n",
    "# np.multiply(np.array(([1,2,3],[3,4,5]))*np.array(([3],[4],[5])))"
   ]
  },
  {
   "cell_type": "code",
   "execution_count": 38,
   "metadata": {},
   "outputs": [
    {
     "data": {
      "text/plain": [
       "array([26, 50])"
      ]
     },
     "execution_count": 38,
     "metadata": {},
     "output_type": "execute_result"
    }
   ],
   "source": [
    "np.dot(np.array(([1,2,3],[3,4,5])),(np.array((3,4,5))))"
   ]
  },
  {
   "cell_type": "code",
   "execution_count": 32,
   "metadata": {},
   "outputs": [
    {
     "data": {
      "text/plain": [
       "array([3, 4, 5])"
      ]
     },
     "execution_count": 32,
     "metadata": {},
     "output_type": "execute_result"
    }
   ],
   "source": [
    "np.array((3,4,5)).T"
   ]
  }
 ],
 "metadata": {
  "kernelspec": {
   "display_name": "linearregression",
   "language": "python",
   "name": "python3"
  },
  "language_info": {
   "codemirror_mode": {
    "name": "ipython",
    "version": 3
   },
   "file_extension": ".py",
   "mimetype": "text/x-python",
   "name": "python",
   "nbconvert_exporter": "python",
   "pygments_lexer": "ipython3",
   "version": "3.12.3"
  }
 },
 "nbformat": 4,
 "nbformat_minor": 2
}
